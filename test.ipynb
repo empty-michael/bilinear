{
 "cells": [
  {
   "cell_type": "code",
   "execution_count": 290,
   "metadata": {},
   "outputs": [
    {
     "name": "stdout",
     "output_type": "stream",
     "text": [
      "The autoreload extension is already loaded. To reload it, use:\n",
      "  %reload_ext autoreload\n"
     ]
    }
   ],
   "source": [
    "%load_ext autoreload\n",
    "%autoreload 2\n",
    "\n",
    "from model import MLPModel, MLPConfig, EigModel\n",
    "from utils import define_scheduler_lambda\n",
    "import matplotlib.pyplot as plt"
   ]
  },
  {
   "cell_type": "code",
   "execution_count": 205,
   "metadata": {},
   "outputs": [],
   "source": [
    "scheduler_epochs = [4, 6, 10]\n",
    "scheduler_lambda = define_scheduler_lambda(*scheduler_epochs, min_lambda = 0.03, steps_per = 2)\n",
    "\n",
    "config = MLPConfig(d_model = 50, \n",
    "                   n_layer = 3,\n",
    "                    weight_decay = 0.5,\n",
    "                    latent_noise = 0.33, \n",
    "                    input_noise = 0.0,\n",
    "                    normalization = 'rms',\n",
    "                    epochs=sum(scheduler_epochs) + 10, \n",
    "                    scheduler_lambda=scheduler_lambda)\n",
    "model = MLPModel(config).to('mps')"
   ]
  },
  {
   "cell_type": "code",
   "execution_count": 206,
   "metadata": {},
   "outputs": [
    {
     "name": "stdout",
     "output_type": "stream",
     "text": [
      "Evaluation | Accuracy: 8.69 %, Loss: 2.3349\n",
      "Epoch [1/30], Step [100/600], loss: 2.2836\n",
      "Epoch [1/30], Step [200/600], loss: 2.2085\n",
      "Epoch [1/30], Step [300/600], loss: 2.1067\n",
      "Epoch [1/30], Step [400/600], loss: 1.8875\n",
      "Epoch [1/30], Step [500/600], loss: 1.6817\n",
      "Epoch [1/30], Step [600/600], loss: 1.5633\n",
      "learning rate = 3e-05\n",
      "Evaluation | Accuracy: 67.69 %, Loss: 1.3283\n",
      "Epoch [2/30], Step [100/600], loss: 1.2621\n",
      "Epoch [2/30], Step [200/600], loss: 1.2241\n",
      "Epoch [2/30], Step [300/600], loss: 1.0897\n",
      "Epoch [2/30], Step [400/600], loss: 0.8404\n",
      "Epoch [2/30], Step [500/600], loss: 0.7156\n",
      "Epoch [2/30], Step [600/600], loss: 0.6244\n",
      "learning rate = 0.00017320508075688773\n",
      "Evaluation | Accuracy: 87.35 %, Loss: 0.6034\n",
      "Epoch [3/30], Step [100/600], loss: 0.5725\n",
      "Epoch [3/30], Step [200/600], loss: 0.4990\n",
      "Epoch [3/30], Step [300/600], loss: 0.3945\n",
      "Epoch [3/30], Step [400/600], loss: 0.2792\n",
      "Epoch [3/30], Step [500/600], loss: 0.4515\n",
      "Epoch [3/30], Step [600/600], loss: 0.2588\n",
      "learning rate = 0.00017320508075688773\n",
      "Evaluation | Accuracy: 93.93 %, Loss: 0.2079\n",
      "Epoch [4/30], Step [100/600], loss: 0.3104\n",
      "Epoch [4/30], Step [200/600], loss: 0.3051\n",
      "Epoch [4/30], Step [300/600], loss: 0.3316\n",
      "Epoch [4/30], Step [400/600], loss: 0.3097\n",
      "Epoch [4/30], Step [500/600], loss: 0.1184\n",
      "Epoch [4/30], Step [600/600], loss: 0.2191\n",
      "learning rate = 0.001\n",
      "Evaluation | Accuracy: 95.14 %, Loss: 0.1630\n",
      "Epoch [5/30], Step [100/600], loss: 0.2110\n",
      "Epoch [5/30], Step [200/600], loss: 0.3165\n",
      "Epoch [5/30], Step [300/600], loss: 0.2069\n",
      "Epoch [5/30], Step [400/600], loss: 0.1778\n",
      "Epoch [5/30], Step [500/600], loss: 0.3879\n",
      "Epoch [5/30], Step [600/600], loss: 0.1362\n",
      "learning rate = 0.001\n",
      "Evaluation | Accuracy: 95.81 %, Loss: 0.1409\n",
      "Epoch [6/30], Step [100/600], loss: 0.1615\n",
      "Epoch [6/30], Step [200/600], loss: 0.1799\n",
      "Epoch [6/30], Step [300/600], loss: 0.1591\n",
      "Epoch [6/30], Step [400/600], loss: 0.2389\n",
      "Epoch [6/30], Step [500/600], loss: 0.1682\n",
      "Epoch [6/30], Step [600/600], loss: 0.1163\n",
      "learning rate = 0.001\n",
      "Evaluation | Accuracy: 95.84 %, Loss: 0.1422\n",
      "Epoch [7/30], Step [100/600], loss: 0.2592\n",
      "Epoch [7/30], Step [200/600], loss: 0.2635\n",
      "Epoch [7/30], Step [300/600], loss: 0.1585\n",
      "Epoch [7/30], Step [400/600], loss: 0.1451\n",
      "Epoch [7/30], Step [500/600], loss: 0.2867\n",
      "Epoch [7/30], Step [600/600], loss: 0.0675\n",
      "learning rate = 0.001\n",
      "Evaluation | Accuracy: 96.45 %, Loss: 0.1262\n",
      "Epoch [8/30], Step [100/600], loss: 0.2679\n",
      "Epoch [8/30], Step [200/600], loss: 0.1362\n",
      "Epoch [8/30], Step [300/600], loss: 0.1443\n",
      "Epoch [8/30], Step [400/600], loss: 0.1051\n",
      "Epoch [8/30], Step [500/600], loss: 0.1610\n",
      "Epoch [8/30], Step [600/600], loss: 0.1720\n",
      "learning rate = 0.001\n",
      "Evaluation | Accuracy: 96.42 %, Loss: 0.1176\n",
      "Epoch [9/30], Step [100/600], loss: 0.2466\n",
      "Epoch [9/30], Step [200/600], loss: 0.0669\n",
      "Epoch [9/30], Step [300/600], loss: 0.0802\n",
      "Epoch [9/30], Step [400/600], loss: 0.2595\n",
      "Epoch [9/30], Step [500/600], loss: 0.2173\n",
      "Epoch [9/30], Step [600/600], loss: 0.3194\n",
      "learning rate = 0.001\n",
      "Evaluation | Accuracy: 96.61 %, Loss: 0.1145\n",
      "Epoch [10/30], Step [100/600], loss: 0.1161\n",
      "Epoch [10/30], Step [200/600], loss: 0.2608\n",
      "Epoch [10/30], Step [300/600], loss: 0.3477\n",
      "Epoch [10/30], Step [400/600], loss: 0.1137\n",
      "Epoch [10/30], Step [500/600], loss: 0.2887\n",
      "Epoch [10/30], Step [600/600], loss: 0.1133\n",
      "learning rate = 0.001\n",
      "Evaluation | Accuracy: 96.70 %, Loss: 0.1092\n",
      "Epoch [11/30], Step [100/600], loss: 0.1211\n",
      "Epoch [11/30], Step [200/600], loss: 0.1640\n",
      "Epoch [11/30], Step [300/600], loss: 0.2186\n",
      "Epoch [11/30], Step [400/600], loss: 0.1439\n",
      "Epoch [11/30], Step [500/600], loss: 0.0794\n",
      "Epoch [11/30], Step [600/600], loss: 0.3034\n",
      "learning rate = 0.00036787944117144236\n",
      "Evaluation | Accuracy: 96.45 %, Loss: 0.1184\n",
      "Epoch [12/30], Step [100/600], loss: 0.0865\n",
      "Epoch [12/30], Step [200/600], loss: 0.2191\n",
      "Epoch [12/30], Step [300/600], loss: 0.1911\n",
      "Epoch [12/30], Step [400/600], loss: 0.1279\n",
      "Epoch [12/30], Step [500/600], loss: 0.2232\n",
      "Epoch [12/30], Step [600/600], loss: 0.1428\n",
      "learning rate = 0.00036787944117144236\n",
      "Evaluation | Accuracy: 97.55 %, Loss: 0.0834\n",
      "Epoch [13/30], Step [100/600], loss: 0.1006\n",
      "Epoch [13/30], Step [200/600], loss: 0.0415\n",
      "Epoch [13/30], Step [300/600], loss: 0.0962\n",
      "Epoch [13/30], Step [400/600], loss: 0.0187\n",
      "Epoch [13/30], Step [500/600], loss: 0.1114\n",
      "Epoch [13/30], Step [600/600], loss: 0.0453\n",
      "learning rate = 0.0001353352832366127\n",
      "Evaluation | Accuracy: 97.37 %, Loss: 0.0864\n",
      "Epoch [14/30], Step [100/600], loss: 0.1562\n",
      "Epoch [14/30], Step [200/600], loss: 0.2277\n",
      "Epoch [14/30], Step [300/600], loss: 0.0481\n",
      "Epoch [14/30], Step [400/600], loss: 0.0978\n",
      "Epoch [14/30], Step [500/600], loss: 0.0660\n",
      "Epoch [14/30], Step [600/600], loss: 0.1111\n",
      "learning rate = 0.0001353352832366127\n",
      "Evaluation | Accuracy: 97.98 %, Loss: 0.0694\n",
      "Epoch [15/30], Step [100/600], loss: 0.0655\n",
      "Epoch [15/30], Step [200/600], loss: 0.0880\n",
      "Epoch [15/30], Step [300/600], loss: 0.0665\n",
      "Epoch [15/30], Step [400/600], loss: 0.0886\n",
      "Epoch [15/30], Step [500/600], loss: 0.0481\n",
      "Epoch [15/30], Step [600/600], loss: 0.1348\n",
      "learning rate = 0.0001353352832366127\n",
      "Evaluation | Accuracy: 97.96 %, Loss: 0.0724\n",
      "Epoch [16/30], Step [100/600], loss: 0.0322\n",
      "Epoch [16/30], Step [200/600], loss: 0.1776\n",
      "Epoch [16/30], Step [300/600], loss: 0.0480\n",
      "Epoch [16/30], Step [400/600], loss: 0.0524\n",
      "Epoch [16/30], Step [500/600], loss: 0.0878\n",
      "Epoch [16/30], Step [600/600], loss: 0.1899\n",
      "learning rate = 4.9787068367863945e-05\n",
      "Evaluation | Accuracy: 98.02 %, Loss: 0.0679\n",
      "Epoch [17/30], Step [100/600], loss: 0.1425\n",
      "Epoch [17/30], Step [200/600], loss: 0.0599\n",
      "Epoch [17/30], Step [300/600], loss: 0.1105\n",
      "Epoch [17/30], Step [400/600], loss: 0.0376\n",
      "Epoch [17/30], Step [500/600], loss: 0.1174\n",
      "Epoch [17/30], Step [600/600], loss: 0.1197\n",
      "learning rate = 4.9787068367863945e-05\n",
      "Evaluation | Accuracy: 98.20 %, Loss: 0.0638\n",
      "Epoch [18/30], Step [100/600], loss: 0.0475\n",
      "Epoch [18/30], Step [200/600], loss: 0.0576\n",
      "Epoch [18/30], Step [300/600], loss: 0.0111\n",
      "Epoch [18/30], Step [400/600], loss: 0.0855\n",
      "Epoch [18/30], Step [500/600], loss: 0.0280\n",
      "Epoch [18/30], Step [600/600], loss: 0.1431\n",
      "learning rate = 4.9787068367863945e-05\n",
      "Evaluation | Accuracy: 98.14 %, Loss: 0.0651\n",
      "Epoch [19/30], Step [100/600], loss: 0.0362\n",
      "Epoch [19/30], Step [200/600], loss: 0.0148\n",
      "Epoch [19/30], Step [300/600], loss: 0.0618\n",
      "Epoch [19/30], Step [400/600], loss: 0.0583\n",
      "Epoch [19/30], Step [500/600], loss: 0.0744\n",
      "Epoch [19/30], Step [600/600], loss: 0.0630\n",
      "learning rate = 1.831563888873418e-05\n",
      "Evaluation | Accuracy: 98.21 %, Loss: 0.0630\n",
      "Epoch [20/30], Step [100/600], loss: 0.0402\n",
      "Epoch [20/30], Step [200/600], loss: 0.0407\n",
      "Epoch [20/30], Step [300/600], loss: 0.0514\n",
      "Epoch [20/30], Step [400/600], loss: 0.0424\n",
      "Epoch [20/30], Step [500/600], loss: 0.0198\n",
      "Epoch [20/30], Step [600/600], loss: 0.0823\n",
      "learning rate = 3e-05\n",
      "Evaluation | Accuracy: 98.17 %, Loss: 0.0618\n",
      "Epoch [21/30], Step [100/600], loss: 0.0847\n",
      "Epoch [21/30], Step [200/600], loss: 0.0466\n",
      "Epoch [21/30], Step [300/600], loss: 0.0681\n",
      "Epoch [21/30], Step [400/600], loss: 0.0259\n",
      "Epoch [21/30], Step [500/600], loss: 0.0630\n",
      "Epoch [21/30], Step [600/600], loss: 0.0579\n",
      "learning rate = 3e-05\n",
      "Evaluation | Accuracy: 98.21 %, Loss: 0.0622\n",
      "Epoch [22/30], Step [100/600], loss: 0.0827\n",
      "Epoch [22/30], Step [200/600], loss: 0.0900\n",
      "Epoch [22/30], Step [300/600], loss: 0.0460\n",
      "Epoch [22/30], Step [400/600], loss: 0.0677\n",
      "Epoch [22/30], Step [500/600], loss: 0.0701\n",
      "Epoch [22/30], Step [600/600], loss: 0.0159\n",
      "learning rate = 3e-05\n",
      "Evaluation | Accuracy: 98.19 %, Loss: 0.0609\n",
      "Epoch [23/30], Step [100/600], loss: 0.0728\n",
      "Epoch [23/30], Step [200/600], loss: 0.0252\n",
      "Epoch [23/30], Step [300/600], loss: 0.0997\n",
      "Epoch [23/30], Step [400/600], loss: 0.1411\n",
      "Epoch [23/30], Step [500/600], loss: 0.0301\n",
      "Epoch [23/30], Step [600/600], loss: 0.0463\n",
      "learning rate = 3e-05\n",
      "Evaluation | Accuracy: 98.23 %, Loss: 0.0609\n",
      "Epoch [24/30], Step [100/600], loss: 0.0167\n",
      "Epoch [24/30], Step [200/600], loss: 0.0144\n",
      "Epoch [24/30], Step [300/600], loss: 0.0947\n",
      "Epoch [24/30], Step [400/600], loss: 0.0549\n",
      "Epoch [24/30], Step [500/600], loss: 0.0294\n",
      "Epoch [24/30], Step [600/600], loss: 0.0546\n",
      "learning rate = 3e-05\n",
      "Evaluation | Accuracy: 98.24 %, Loss: 0.0603\n",
      "Epoch [25/30], Step [100/600], loss: 0.1395\n",
      "Epoch [25/30], Step [200/600], loss: 0.0487\n",
      "Epoch [25/30], Step [300/600], loss: 0.0804\n",
      "Epoch [25/30], Step [400/600], loss: 0.0410\n",
      "Epoch [25/30], Step [500/600], loss: 0.0974\n",
      "Epoch [25/30], Step [600/600], loss: 0.0358\n",
      "learning rate = 3e-05\n",
      "Evaluation | Accuracy: 98.29 %, Loss: 0.0611\n",
      "Epoch [26/30], Step [100/600], loss: 0.0173\n",
      "Epoch [26/30], Step [200/600], loss: 0.0576\n",
      "Epoch [26/30], Step [300/600], loss: 0.1188\n",
      "Epoch [26/30], Step [400/600], loss: 0.0291\n",
      "Epoch [26/30], Step [500/600], loss: 0.0367\n",
      "Epoch [26/30], Step [600/600], loss: 0.0480\n",
      "learning rate = 3e-05\n",
      "Evaluation | Accuracy: 98.26 %, Loss: 0.0608\n",
      "Epoch [27/30], Step [100/600], loss: 0.1163\n",
      "Epoch [27/30], Step [200/600], loss: 0.0535\n",
      "Epoch [27/30], Step [300/600], loss: 0.1083\n",
      "Epoch [27/30], Step [400/600], loss: 0.0196\n",
      "Epoch [27/30], Step [500/600], loss: 0.1530\n",
      "Epoch [27/30], Step [600/600], loss: 0.1064\n",
      "learning rate = 3e-05\n",
      "Evaluation | Accuracy: 98.25 %, Loss: 0.0602\n",
      "Epoch [28/30], Step [100/600], loss: 0.0663\n",
      "Epoch [28/30], Step [200/600], loss: 0.0553\n",
      "Epoch [28/30], Step [300/600], loss: 0.0716\n",
      "Epoch [28/30], Step [400/600], loss: 0.0851\n",
      "Epoch [28/30], Step [500/600], loss: 0.1204\n",
      "Epoch [28/30], Step [600/600], loss: 0.0558\n",
      "learning rate = 3e-05\n",
      "Evaluation | Accuracy: 98.19 %, Loss: 0.0607\n",
      "Epoch [29/30], Step [100/600], loss: 0.0962\n",
      "Epoch [29/30], Step [200/600], loss: 0.0348\n",
      "Epoch [29/30], Step [300/600], loss: 0.0719\n",
      "Epoch [29/30], Step [400/600], loss: 0.0258\n",
      "Epoch [29/30], Step [500/600], loss: 0.0386\n",
      "Epoch [29/30], Step [600/600], loss: 0.0405\n",
      "learning rate = 3e-05\n",
      "Evaluation | Accuracy: 98.29 %, Loss: 0.0602\n",
      "Epoch [30/30], Step [100/600], loss: 0.0152\n",
      "Epoch [30/30], Step [200/600], loss: 0.0093\n",
      "Epoch [30/30], Step [300/600], loss: 0.0720\n",
      "Epoch [30/30], Step [400/600], loss: 0.0748\n",
      "Epoch [30/30], Step [500/600], loss: 0.0672\n",
      "Epoch [30/30], Step [600/600], loss: 0.1212\n",
      "learning rate = 3e-05\n",
      "Evaluation | Accuracy: 98.29 %, Loss: 0.0598\n"
     ]
    }
   ],
   "source": [
    "model.fit()"
   ]
  },
  {
   "cell_type": "code",
   "execution_count": 304,
   "metadata": {},
   "outputs": [
    {
     "name": "stdout",
     "output_type": "stream",
     "text": [
      "Layer 2,   Nodes: 10\n",
      "Layer 1,   Nodes: 332\n",
      "Layer 0,   Nodes: 11170\n"
     ]
    }
   ],
   "source": [
    "eigmodel = EigModel(model).to('mps')\n",
    "eigmodel.set_eigenvector_model(threshold=1e-2)"
   ]
  },
  {
   "cell_type": "code",
   "execution_count": 305,
   "metadata": {},
   "outputs": [
    {
     "name": "stdout",
     "output_type": "stream",
     "text": [
      "Evaluation | Accuracy: 97.52 %, Loss: 2.3026\n"
     ]
    },
    {
     "data": {
      "text/plain": [
       "(97.52, 2.3025851249694824)"
      ]
     },
     "execution_count": 305,
     "metadata": {},
     "output_type": "execute_result"
    }
   ],
   "source": [
    "eigmodel.validation()"
   ]
  },
  {
   "cell_type": "code",
   "execution_count": 308,
   "metadata": {},
   "outputs": [
    {
     "data": {
      "text/plain": [
       "(array([5.171e+03, 4.989e+03, 4.973e+03, 5.047e+03, 5.009e+03, 4.998e+03,\n",
       "        5.112e+03, 5.016e+03, 4.964e+03, 5.012e+03, 5.019e+03, 5.114e+03,\n",
       "        4.972e+03, 5.064e+03, 5.063e+03, 5.062e+03, 5.233e+03, 5.188e+03,\n",
       "        5.135e+03, 5.148e+03, 5.314e+03, 5.225e+03, 5.424e+03, 5.581e+03,\n",
       "        5.514e+03, 5.581e+03, 5.859e+03, 6.001e+03, 6.022e+03, 6.123e+03,\n",
       "        6.342e+03, 6.438e+03, 6.508e+03, 6.587e+03, 6.862e+03, 6.915e+03,\n",
       "        7.159e+03, 7.246e+03, 7.328e+03, 7.559e+03, 7.726e+03, 7.680e+03,\n",
       "        7.785e+03, 7.761e+03, 7.623e+03, 7.452e+03, 7.524e+03, 7.266e+03,\n",
       "        6.899e+03, 6.786e+03, 6.541e+03, 6.060e+03, 5.838e+03, 5.524e+03,\n",
       "        5.394e+03, 5.094e+03, 4.804e+03, 4.548e+03, 4.142e+03, 3.796e+03,\n",
       "        3.637e+03, 3.267e+03, 3.058e+03, 2.694e+03, 2.392e+03, 2.260e+03,\n",
       "        1.969e+03, 1.792e+03, 1.577e+03, 1.415e+03, 1.304e+03, 1.135e+03,\n",
       "        9.910e+02, 9.020e+02, 8.550e+02, 7.040e+02, 6.320e+02, 5.370e+02,\n",
       "        5.100e+02, 4.130e+02, 3.820e+02, 2.640e+02, 2.580e+02, 2.090e+02,\n",
       "        1.740e+02, 1.490e+02, 1.240e+02, 7.200e+01, 7.600e+01, 5.500e+01,\n",
       "        3.500e+01, 2.900e+01, 1.000e+01, 1.300e+01, 7.000e+00, 2.000e+00,\n",
       "        7.000e+00, 5.000e+00, 0.000e+00, 1.000e+00]),\n",
       " array([-13.48538113, -13.41630363, -13.34722614, -13.27814865,\n",
       "        -13.20907116, -13.13999367, -13.07091618, -13.00183868,\n",
       "        -12.93276119, -12.8636837 , -12.79460621, -12.72552872,\n",
       "        -12.65645123, -12.58737373, -12.51829624, -12.44921875,\n",
       "        -12.38014126, -12.31106377, -12.24198627, -12.17290878,\n",
       "        -12.10383129, -12.0347538 , -11.96567631, -11.89659882,\n",
       "        -11.82752132, -11.75844383, -11.68936729, -11.6202898 ,\n",
       "        -11.55121231, -11.48213482, -11.41305733, -11.34397984,\n",
       "        -11.27490234, -11.20582485, -11.13674736, -11.06766987,\n",
       "        -10.99859238, -10.92951488, -10.86043739, -10.7913599 ,\n",
       "        -10.72228241, -10.65320492, -10.58412743, -10.51504993,\n",
       "        -10.44597244, -10.37689495, -10.30781746, -10.23873997,\n",
       "        -10.16966248, -10.10058498, -10.03150749,  -9.96243   ,\n",
       "         -9.89335251,  -9.82427502,  -9.75519753,  -9.68612003,\n",
       "         -9.61704254,  -9.54796505,  -9.47888756,  -9.40981007,\n",
       "         -9.34073257,  -9.27165508,  -9.20257759,  -9.1335001 ,\n",
       "         -9.06442261,  -8.99534512,  -8.92626762,  -8.85719013,\n",
       "         -8.78811264,  -8.71903515,  -8.64995766,  -8.58088017,\n",
       "         -8.51180267,  -8.44272518,  -8.37364769,  -8.30457115,\n",
       "         -8.23549366,  -8.16641617,  -8.09733868,  -8.02826118,\n",
       "         -7.95918322,  -7.89010572,  -7.82102823,  -7.75195074,\n",
       "         -7.68287325,  -7.61379576,  -7.54471827,  -7.47564077,\n",
       "         -7.40656376,  -7.33748627,  -7.26840878,  -7.19933128,\n",
       "         -7.13025379,  -7.0611763 ,  -6.99209881,  -6.92302132,\n",
       "         -6.85394382,  -6.78486633,  -6.71578884,  -6.64671135,\n",
       "         -6.57763386]),\n",
       " <BarContainer object of 100 artists>)"
      ]
     },
     "execution_count": 308,
     "metadata": {},
     "output_type": "execute_result"
    },
    {
     "data": {
      "image/png": "[encoded data removed]",
      "text/plain": [
       "<Figure size 640x480 with 1 Axes>"
      ]
     },
     "metadata": {},
     "output_type": "display_data"
    }
   ],
   "source": [
    "log_eigvals = torch.tensor([(node.log_eigval) for node in eigmodel.leaf_nodes])\n",
    "plt.hist(log_eigvals.numpy(), bins=100)\n",
    "# plt.yscale('log')"
   ]
  },
  {
   "cell_type": "code",
   "execution_count": 309,
   "metadata": {},
   "outputs": [
    {
     "data": {
      "text/plain": [
       "tensor(232485)"
      ]
     },
     "execution_count": 309,
     "metadata": {},
     "output_type": "execute_result"
    }
   ],
   "source": [
    "log_eigvals.argmax()"
   ]
  },
  {
   "cell_type": "code",
   "execution_count": 313,
   "metadata": {},
   "outputs": [],
   "source": [
    "idx = log_eigvals.argmax()\n",
    "node = eigmodel.leaf_nodes[idx]"
   ]
  },
  {
   "cell_type": "code",
   "execution_count": 319,
   "metadata": {},
   "outputs": [
    {
     "data": {
      "text/plain": [
       "<matplotlib.image.AxesImage at 0x353410b60>"
      ]
     },
     "execution_count": 319,
     "metadata": {},
     "output_type": "execute_result"
    },
    {
     "data": {
      "image/png": "[encoded data removed]",
      "text/plain": [
       "<Figure size 640x480 with 1 Axes>"
      ]
     },
     "metadata": {},
     "output_type": "display_data"
    }
   ],
   "source": [
    "img = (node.eigenvector @ model.Embed.weight.cpu().detach())\n",
    "plt.imshow(img.reshape(28,28), cmap='RdBu', vmin=-0.25, vmax = 0.25)"
   ]
  },
  {
   "cell_type": "code",
   "execution_count": 315,
   "metadata": {},
   "outputs": [
    {
     "data": {
      "text/plain": [
       "torch.Size([50, 784])"
      ]
     },
     "execution_count": 315,
     "metadata": {},
     "output_type": "execute_result"
    }
   ],
   "source": [
    "model.Embed.weight.shape"
   ]
  },
  {
   "cell_type": "code",
   "execution_count": 265,
   "metadata": {},
   "outputs": [
    {
     "data": {
      "text/plain": [
       "tensor([ -7.0539,  -7.1598,  -7.2800,  -7.3466,  -7.5835,  -7.6906,  -7.8400,\n",
       "         -7.9923,  -8.0453,  -8.2961,  -8.3815,  -8.4335,  -8.6623,  -9.0990,\n",
       "         -9.4324,  -9.7783,  -9.8232, -10.2123, -10.3809, -10.6718, -11.1071,\n",
       "        -10.9150, -10.7521, -10.3593, -10.1430,  -9.6899,  -9.5872,  -9.1459,\n",
       "         -8.7996,  -8.6932,  -8.6458,  -8.4978,  -8.4062,  -8.1045,  -7.6205])"
      ]
     },
     "execution_count": 265,
     "metadata": {},
     "output_type": "execute_result"
    }
   ],
   "source": [
    "x = torch.randn(100, 50)\n",
    "[child.forward(torch.randn(100, 50)).shape for child in parent.children]"
   ]
  },
  {
   "cell_type": "code",
   "execution_count": 275,
   "metadata": {},
   "outputs": [
    {
     "data": {
      "text/plain": [
       "torch.Size([100, 10])"
      ]
     },
     "execution_count": 275,
     "metadata": {},
     "output_type": "execute_result"
    }
   ],
   "source": [
    "model.forward(torch.randn(100, 784).to('mps')).shape"
   ]
  },
  {
   "cell_type": "code",
   "execution_count": 171,
   "metadata": {},
   "outputs": [
    {
     "data": {
      "text/plain": [
       "torch.Size([600, 300])"
      ]
     },
     "execution_count": 171,
     "metadata": {},
     "output_type": "execute_result"
    }
   ],
   "source": [
    "model.layers[0].mlp.W.weight.shape"
   ]
  },
  {
   "cell_type": "code",
   "execution_count": 130,
   "metadata": {},
   "outputs": [
    {
     "data": {
      "text/plain": [
       "MLPModel(\n",
       "  (Embed): Linear(in_features=784, out_features=300, bias=False)\n",
       "  (layers): ModuleList(\n",
       "    (0): Layer(\n",
       "      (mlp): GatedMLP(\n",
       "        (W): Linear(in_features=300, out_features=600, bias=False)\n",
       "        (Proj): Linear(in_features=300, out_features=300, bias=False)\n",
       "      )\n",
       "      (norm): Norm(\n",
       "        (norm): Identity()\n",
       "        (noise): LatentNoise()\n",
       "      )\n",
       "    )\n",
       "  )\n",
       "  (Unembed): Linear(in_features=300, out_features=784, bias=False)\n",
       ")"
      ]
     },
     "execution_count": 130,
     "metadata": {},
     "output_type": "execute_result"
    }
   ],
   "source": [
    "model"
   ]
  },
  {
   "cell_type": "code",
   "execution_count": null,
   "metadata": {},
   "outputs": [],
   "source": []
  }
 ],
 "metadata": {
  "kernelspec": {
   "display_name": "Python 3",
   "language": "python",
   "name": "python3"
  },
  "language_info": {
   "codemirror_mode": {
    "name": "ipython",
    "version": 3
   },
   "file_extension": ".py",
   "mimetype": "text/x-python",
   "name": "python",
   "nbconvert_exporter": "python",
   "pygments_lexer": "ipython3",
   "version": "3.12.1"
  }
 },
 "nbformat": 4,
 "nbformat_minor": 2
}
